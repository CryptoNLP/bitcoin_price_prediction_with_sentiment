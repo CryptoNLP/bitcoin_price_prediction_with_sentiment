{
 "cells": [
  {
   "cell_type": "code",
   "execution_count": 1,
   "id": "7040e6da",
   "metadata": {},
   "outputs": [],
   "source": [
    "from vaderSentiment.vaderSentiment import SentimentIntensityAnalyzer\n",
    "from sklearn.metrics import confusion_matrix\n",
    "import sklearn.metrics\n",
    "import matplotlib.pyplot as plt\n",
    "import pandas as pd\n",
    "import pickle"
   ]
  },
  {
   "cell_type": "code",
   "execution_count": 2,
   "id": "2ee9e2a2",
   "metadata": {},
   "outputs": [],
   "source": [
    "analyzer = SentimentIntensityAnalyzer()"
   ]
  },
  {
   "cell_type": "code",
   "execution_count": 3,
   "id": "39610b8e",
   "metadata": {},
   "outputs": [
    {
     "data": {
      "text/html": [
       "<div>\n",
       "<style scoped>\n",
       "    .dataframe tbody tr th:only-of-type {\n",
       "        vertical-align: middle;\n",
       "    }\n",
       "\n",
       "    .dataframe tbody tr th {\n",
       "        vertical-align: top;\n",
       "    }\n",
       "\n",
       "    .dataframe thead th {\n",
       "        text-align: right;\n",
       "    }\n",
       "</style>\n",
       "<table border=\"1\" class=\"dataframe\">\n",
       "  <thead>\n",
       "    <tr style=\"text-align: right;\">\n",
       "      <th></th>\n",
       "      <th>sentence</th>\n",
       "      <th>sentiment</th>\n",
       "      <th>question</th>\n",
       "      <th>length</th>\n",
       "    </tr>\n",
       "  </thead>\n",
       "  <tbody>\n",
       "    <tr>\n",
       "      <th>0</th>\n",
       "      <td>12 hours until I can buy the dip. I won’t be s...</td>\n",
       "      <td>positive</td>\n",
       "      <td>0.0</td>\n",
       "      <td>18.0</td>\n",
       "    </tr>\n",
       "    <tr>\n",
       "      <th>1</th>\n",
       "      <td>38k. Not too shabby. \\nLets shoot the btc rock...</td>\n",
       "      <td>positive</td>\n",
       "      <td>0.0</td>\n",
       "      <td>14.0</td>\n",
       "    </tr>\n",
       "    <tr>\n",
       "      <th>2</th>\n",
       "      <td>4 hour bull div locked in. We have bottomed. C...</td>\n",
       "      <td>positive</td>\n",
       "      <td>0.0</td>\n",
       "      <td>10.0</td>\n",
       "    </tr>\n",
       "    <tr>\n",
       "      <th>3</th>\n",
       "      <td>40k feels good now</td>\n",
       "      <td>positive</td>\n",
       "      <td>0.0</td>\n",
       "      <td>4.0</td>\n",
       "    </tr>\n",
       "    <tr>\n",
       "      <th>4</th>\n",
       "      <td>40k test I feel it has alot more gas and is we...</td>\n",
       "      <td>positive</td>\n",
       "      <td>0.0</td>\n",
       "      <td>17.0</td>\n",
       "    </tr>\n",
       "    <tr>\n",
       "      <th>...</th>\n",
       "      <td>...</td>\n",
       "      <td>...</td>\n",
       "      <td>...</td>\n",
       "      <td>...</td>\n",
       "    </tr>\n",
       "    <tr>\n",
       "      <th>995</th>\n",
       "      <td>I picked the wrong week</td>\n",
       "      <td>negative</td>\n",
       "      <td>NaN</td>\n",
       "      <td>NaN</td>\n",
       "    </tr>\n",
       "    <tr>\n",
       "      <th>996</th>\n",
       "      <td>Stupid fucking Russia</td>\n",
       "      <td>negative</td>\n",
       "      <td>NaN</td>\n",
       "      <td>NaN</td>\n",
       "    </tr>\n",
       "    <tr>\n",
       "      <th>997</th>\n",
       "      <td>Lets try to catch the falling knife</td>\n",
       "      <td>negative</td>\n",
       "      <td>NaN</td>\n",
       "      <td>NaN</td>\n",
       "    </tr>\n",
       "    <tr>\n",
       "      <th>998</th>\n",
       "      <td>Zero chance.</td>\n",
       "      <td>negative</td>\n",
       "      <td>NaN</td>\n",
       "      <td>NaN</td>\n",
       "    </tr>\n",
       "    <tr>\n",
       "      <th>999</th>\n",
       "      <td>Bitcoin falling</td>\n",
       "      <td>negative</td>\n",
       "      <td>NaN</td>\n",
       "      <td>NaN</td>\n",
       "    </tr>\n",
       "  </tbody>\n",
       "</table>\n",
       "<p>1000 rows × 4 columns</p>\n",
       "</div>"
      ],
      "text/plain": [
       "                                              sentence sentiment  question  \\\n",
       "0    12 hours until I can buy the dip. I won’t be s...  positive       0.0   \n",
       "1    38k. Not too shabby. \\nLets shoot the btc rock...  positive       0.0   \n",
       "2    4 hour bull div locked in. We have bottomed. C...  positive       0.0   \n",
       "3                                   40k feels good now  positive       0.0   \n",
       "4    40k test I feel it has alot more gas and is we...  positive       0.0   \n",
       "..                                                 ...       ...       ...   \n",
       "995                            I picked the wrong week  negative       NaN   \n",
       "996                              Stupid fucking Russia  negative       NaN   \n",
       "997                Lets try to catch the falling knife  negative       NaN   \n",
       "998                                       Zero chance.  negative       NaN   \n",
       "999                                    Bitcoin falling  negative       NaN   \n",
       "\n",
       "     length  \n",
       "0      18.0  \n",
       "1      14.0  \n",
       "2      10.0  \n",
       "3       4.0  \n",
       "4      17.0  \n",
       "..      ...  \n",
       "995     NaN  \n",
       "996     NaN  \n",
       "997     NaN  \n",
       "998     NaN  \n",
       "999     NaN  \n",
       "\n",
       "[1000 rows x 4 columns]"
      ]
     },
     "execution_count": 3,
     "metadata": {},
     "output_type": "execute_result"
    }
   ],
   "source": [
    "data_test = pd.read_excel(\"../Excel/test_data_v5.xlsx\",index_col=0)\n",
    "data_test"
   ]
  },
  {
   "cell_type": "code",
   "execution_count": 4,
   "id": "e6bc1b96",
   "metadata": {},
   "outputs": [],
   "source": [
    "with open('list_2words.pkl', 'rb') as f: # rb : binary 파일 읽기\n",
    "    two_words = pickle.load(f)"
   ]
  },
  {
   "cell_type": "code",
   "execution_count": 5,
   "id": "c3c3434f",
   "metadata": {},
   "outputs": [],
   "source": [
    "def two2one(sentence):\n",
    "    for two_word in two_words:\n",
    "        if two_word in sentence:\n",
    "            sentence = sentence.replace(two_word, two_word.split()[0]+\"_\"+two_word.split()[1])\n",
    "    return sentence"
   ]
  },
  {
   "cell_type": "code",
   "execution_count": 6,
   "id": "e600ed9a",
   "metadata": {},
   "outputs": [],
   "source": [
    "data_test['length'] = data_test['sentence'].apply(lambda x : len(x.split()))\n",
    "data_test['sentence'] = data_test['sentence'].apply(two2one) # 2 단어 이상 합쳐진 단어들을 하나로\n",
    "data_test['polarity_scores'] = data_test['sentence'].apply(analyzer.polarity_scores)\n",
    "data_test['compound'] = data_test['polarity_scores'].apply(lambda x: x['compound'])"
   ]
  },
  {
   "cell_type": "markdown",
   "id": "9394e5af",
   "metadata": {},
   "source": [
    "data_test_1 = data_test[data_test['length']<=5]\n",
    "data_test_2 = data_test[(5 <data_test['length'])&(data_test['length']<=10)]\n",
    "data_test_3 = data_test[(10 <data_test['length'])&(data_test['length']<=15)]\n",
    "data_test_4 = data_test[(15 <data_test['length'])&(data_test['length']<=20)]\n",
    "data_test_5 = data_test[(20 <data_test['length'])&(data_test['length']<=25)]\n",
    "data_test_6 = data_test[(25 <data_test['length'])&(data_test['length']<=30)]\n",
    "data_test_7 = data_test[(30 <data_test['length'])&(data_test['length']<=35)]\n",
    "data_test_8 = data_test[(35 <data_test['length'])]"
   ]
  },
  {
   "cell_type": "code",
   "execution_count": 8,
   "id": "d5208c85",
   "metadata": {},
   "outputs": [
    {
     "data": {
      "text/html": [
       "<div>\n",
       "<style scoped>\n",
       "    .dataframe tbody tr th:only-of-type {\n",
       "        vertical-align: middle;\n",
       "    }\n",
       "\n",
       "    .dataframe tbody tr th {\n",
       "        vertical-align: top;\n",
       "    }\n",
       "\n",
       "    .dataframe thead th {\n",
       "        text-align: right;\n",
       "    }\n",
       "</style>\n",
       "<table border=\"1\" class=\"dataframe\">\n",
       "  <thead>\n",
       "    <tr style=\"text-align: right;\">\n",
       "      <th></th>\n",
       "      <th>sentence</th>\n",
       "      <th>sentiment</th>\n",
       "      <th>question</th>\n",
       "      <th>length</th>\n",
       "      <th>polarity_scores</th>\n",
       "      <th>compound</th>\n",
       "    </tr>\n",
       "  </thead>\n",
       "  <tbody>\n",
       "    <tr>\n",
       "      <th>438</th>\n",
       "      <td>Fookin hell, if we dip any lower I'm gonna hav...</td>\n",
       "      <td>negative</td>\n",
       "      <td>0.0</td>\n",
       "      <td>14</td>\n",
       "      <td>{'neg': 0.292, 'neu': 0.417, 'pos': 0.292, 'co...</td>\n",
       "      <td>0.0</td>\n",
       "    </tr>\n",
       "    <tr>\n",
       "      <th>469</th>\n",
       "      <td>when in doubt, zoom_out</td>\n",
       "      <td>positive</td>\n",
       "      <td>0.0</td>\n",
       "      <td>5</td>\n",
       "      <td>{'neg': 0.365, 'neu': 0.27, 'pos': 0.365, 'com...</td>\n",
       "      <td>0.0</td>\n",
       "    </tr>\n",
       "    <tr>\n",
       "      <th>470</th>\n",
       "      <td>Zoom out. 🦑</td>\n",
       "      <td>positive</td>\n",
       "      <td>0.0</td>\n",
       "      <td>3</td>\n",
       "      <td>{'neg': 0.0, 'neu': 1.0, 'pos': 0.0, 'compound...</td>\n",
       "      <td>0.0</td>\n",
       "    </tr>\n",
       "    <tr>\n",
       "      <th>476</th>\n",
       "      <td>Bye bye paper hands</td>\n",
       "      <td>positive</td>\n",
       "      <td>0.0</td>\n",
       "      <td>4</td>\n",
       "      <td>{'neg': 0.0, 'neu': 1.0, 'pos': 0.0, 'compound...</td>\n",
       "      <td>0.0</td>\n",
       "    </tr>\n",
       "    <tr>\n",
       "      <th>477</th>\n",
       "      <td>Don’t be the person that sells your coins to b...</td>\n",
       "      <td>positive</td>\n",
       "      <td>0.0</td>\n",
       "      <td>16</td>\n",
       "      <td>{'neg': 0.0, 'neu': 1.0, 'pos': 0.0, 'compound...</td>\n",
       "      <td>0.0</td>\n",
       "    </tr>\n",
       "    <tr>\n",
       "      <th>...</th>\n",
       "      <td>...</td>\n",
       "      <td>...</td>\n",
       "      <td>...</td>\n",
       "      <td>...</td>\n",
       "      <td>...</td>\n",
       "      <td>...</td>\n",
       "    </tr>\n",
       "    <tr>\n",
       "      <th>916</th>\n",
       "      <td>sell.sell.sell</td>\n",
       "      <td>negative</td>\n",
       "      <td>NaN</td>\n",
       "      <td>1</td>\n",
       "      <td>{'neg': 0.0, 'neu': 1.0, 'pos': 0.0, 'compound...</td>\n",
       "      <td>0.0</td>\n",
       "    </tr>\n",
       "    <tr>\n",
       "      <th>917</th>\n",
       "      <td>no.no.no</td>\n",
       "      <td>negative</td>\n",
       "      <td>NaN</td>\n",
       "      <td>1</td>\n",
       "      <td>{'neg': 0.0, 'neu': 1.0, 'pos': 0.0, 'compound...</td>\n",
       "      <td>0.0</td>\n",
       "    </tr>\n",
       "    <tr>\n",
       "      <th>919</th>\n",
       "      <td>really wanting to throw_in…</td>\n",
       "      <td>negative</td>\n",
       "      <td>NaN</td>\n",
       "      <td>5</td>\n",
       "      <td>{'neg': 0.0, 'neu': 1.0, 'pos': 0.0, 'compound...</td>\n",
       "      <td>0.0</td>\n",
       "    </tr>\n",
       "    <tr>\n",
       "      <th>961</th>\n",
       "      <td>I have allegy to BTC</td>\n",
       "      <td>negative</td>\n",
       "      <td>NaN</td>\n",
       "      <td>5</td>\n",
       "      <td>{'neg': 0.0, 'neu': 1.0, 'pos': 0.0, 'compound...</td>\n",
       "      <td>0.0</td>\n",
       "    </tr>\n",
       "    <tr>\n",
       "      <th>992</th>\n",
       "      <td>really wanting to throw_in…</td>\n",
       "      <td>negative</td>\n",
       "      <td>NaN</td>\n",
       "      <td>4</td>\n",
       "      <td>{'neg': 0.0, 'neu': 1.0, 'pos': 0.0, 'compound...</td>\n",
       "      <td>0.0</td>\n",
       "    </tr>\n",
       "  </tbody>\n",
       "</table>\n",
       "<p>74 rows × 6 columns</p>\n",
       "</div>"
      ],
      "text/plain": [
       "                                              sentence sentiment  question  \\\n",
       "438  Fookin hell, if we dip any lower I'm gonna hav...  negative       0.0   \n",
       "469                            when in doubt, zoom_out  positive       0.0   \n",
       "470                                        Zoom out. 🦑  positive       0.0   \n",
       "476                                Bye bye paper hands  positive       0.0   \n",
       "477  Don’t be the person that sells your coins to b...  positive       0.0   \n",
       "..                                                 ...       ...       ...   \n",
       "916                                     sell.sell.sell  negative       NaN   \n",
       "917                                           no.no.no  negative       NaN   \n",
       "919                        really wanting to throw_in…  negative       NaN   \n",
       "961                               I have allegy to BTC  negative       NaN   \n",
       "992                        really wanting to throw_in…  negative       NaN   \n",
       "\n",
       "     length                                    polarity_scores  compound  \n",
       "438      14  {'neg': 0.292, 'neu': 0.417, 'pos': 0.292, 'co...       0.0  \n",
       "469       5  {'neg': 0.365, 'neu': 0.27, 'pos': 0.365, 'com...       0.0  \n",
       "470       3  {'neg': 0.0, 'neu': 1.0, 'pos': 0.0, 'compound...       0.0  \n",
       "476       4  {'neg': 0.0, 'neu': 1.0, 'pos': 0.0, 'compound...       0.0  \n",
       "477      16  {'neg': 0.0, 'neu': 1.0, 'pos': 0.0, 'compound...       0.0  \n",
       "..      ...                                                ...       ...  \n",
       "916       1  {'neg': 0.0, 'neu': 1.0, 'pos': 0.0, 'compound...       0.0  \n",
       "917       1  {'neg': 0.0, 'neu': 1.0, 'pos': 0.0, 'compound...       0.0  \n",
       "919       5  {'neg': 0.0, 'neu': 1.0, 'pos': 0.0, 'compound...       0.0  \n",
       "961       5  {'neg': 0.0, 'neu': 1.0, 'pos': 0.0, 'compound...       0.0  \n",
       "992       4  {'neg': 0.0, 'neu': 1.0, 'pos': 0.0, 'compound...       0.0  \n",
       "\n",
       "[74 rows x 6 columns]"
      ]
     },
     "execution_count": 8,
     "metadata": {},
     "output_type": "execute_result"
    }
   ],
   "source": [
    "data_test[data_test['compound']==0]"
   ]
  },
  {
   "cell_type": "markdown",
   "id": "b164ae3f",
   "metadata": {},
   "source": [
    "data_test = data_test_8.reset_index(drop = True)"
   ]
  },
  {
   "cell_type": "code",
   "execution_count": 20,
   "id": "efa3aed2",
   "metadata": {},
   "outputs": [],
   "source": [
    "def sent(x):\n",
    "    if x > 0:\n",
    "        return 'positive'\n",
    "    elif x == 0:\n",
    "        return 'neutral'\n",
    "    else:\n",
    "        return 'negative'"
   ]
  },
  {
   "cell_type": "code",
   "execution_count": null,
   "id": "50cf2795",
   "metadata": {},
   "outputs": [],
   "source": [
    "def sent_bi():\n",
    "    if "
   ]
  },
  {
   "cell_type": "code",
   "execution_count": 21,
   "id": "517e90b0",
   "metadata": {},
   "outputs": [],
   "source": [
    "data_test['vader_sentiment'] = data_test['compound'].apply(sent)"
   ]
  },
  {
   "cell_type": "code",
   "execution_count": 22,
   "id": "d8e3c7b5",
   "metadata": {},
   "outputs": [
    {
     "data": {
      "text/plain": [
       "'positive'"
      ]
     },
     "execution_count": 22,
     "metadata": {},
     "output_type": "execute_result"
    }
   ],
   "source": [
    "data_test['vader_sentiment'][0]"
   ]
  },
  {
   "cell_type": "code",
   "execution_count": 23,
   "id": "99770b10",
   "metadata": {
    "scrolled": true
   },
   "outputs": [
    {
     "data": {
      "text/plain": [
       "array([[425,  29,  46],\n",
       "       [  0,   0,   0],\n",
       "       [ 93,  45, 362]], dtype=int64)"
      ]
     },
     "execution_count": 23,
     "metadata": {},
     "output_type": "execute_result"
    }
   ],
   "source": [
    "confusion_matrix(y_true=data_test['sentiment'], y_pred=data_test['vader_sentiment'], labels=['positive', 'neutral', 'negative']) "
   ]
  },
  {
   "cell_type": "code",
   "execution_count": 24,
   "id": "bee3442a",
   "metadata": {},
   "outputs": [],
   "source": [
    "confusion_matrix = confusion_matrix(y_true=data_test['sentiment'], y_pred=data_test['vader_sentiment'], labels=['positive', 'neutral', 'negative']) "
   ]
  },
  {
   "cell_type": "code",
   "execution_count": 25,
   "id": "7998e754",
   "metadata": {
    "scrolled": false
   },
   "outputs": [
    {
     "data": {
      "image/png": "[encoded data removed]",
      "text/plain": [
       "<Figure size 432x288 with 2 Axes>"
      ]
     },
     "metadata": {
      "needs_background": "light"
     },
     "output_type": "display_data"
    }
   ],
   "source": [
    "disp = sklearn.metrics.ConfusionMatrixDisplay(confusion_matrix)\n",
    "disp.plot()\n",
    "\n",
    "plt.savefig('lexicon_v3_1.png')\n",
    "plt.show()"
   ]
  },
  {
   "cell_type": "code",
   "execution_count": 13,
   "id": "fec96eca",
   "metadata": {},
   "outputs": [
    {
     "data": {
      "text/plain": [
       "'throw_in'"
      ]
     },
     "execution_count": 13,
     "metadata": {},
     "output_type": "execute_result"
    }
   ],
   "source": [
    "two2one(\"throw in\")"
   ]
  },
  {
   "cell_type": "markdown",
   "id": "d1d32c73",
   "metadata": {},
   "source": [
    "# 잘못 분류된 Data 확인"
   ]
  },
  {
   "cell_type": "code",
   "execution_count": 52,
   "id": "ada4cb6b",
   "metadata": {},
   "outputs": [],
   "source": [
    "data_re = data_test[[\"sentence\",\"sentiment\",\"vader_sentiment\"]]"
   ]
  },
  {
   "cell_type": "code",
   "execution_count": 53,
   "id": "d580075d",
   "metadata": {},
   "outputs": [
    {
     "data": {
      "text/html": [
       "<div>\n",
       "<style scoped>\n",
       "    .dataframe tbody tr th:only-of-type {\n",
       "        vertical-align: middle;\n",
       "    }\n",
       "\n",
       "    .dataframe tbody tr th {\n",
       "        vertical-align: top;\n",
       "    }\n",
       "\n",
       "    .dataframe thead th {\n",
       "        text-align: right;\n",
       "    }\n",
       "</style>\n",
       "<table border=\"1\" class=\"dataframe\">\n",
       "  <thead>\n",
       "    <tr style=\"text-align: right;\">\n",
       "      <th></th>\n",
       "      <th>sentence</th>\n",
       "      <th>sentiment</th>\n",
       "      <th>vader_sentiment</th>\n",
       "    </tr>\n",
       "  </thead>\n",
       "  <tbody>\n",
       "    <tr>\n",
       "      <th>0</th>\n",
       "      <td>2022 is gonna be big for crypto!</td>\n",
       "      <td>positive</td>\n",
       "      <td>neutral</td>\n",
       "    </tr>\n",
       "    <tr>\n",
       "      <th>1</th>\n",
       "      <td>Come on ATOM, only $1 away from new ATH!</td>\n",
       "      <td>positive</td>\n",
       "      <td>neutral</td>\n",
       "    </tr>\n",
       "    <tr>\n",
       "      <th>2</th>\n",
       "      <td>come on death cross make me some money!</td>\n",
       "      <td>positive</td>\n",
       "      <td>negative</td>\n",
       "    </tr>\n",
       "    <tr>\n",
       "      <th>3</th>\n",
       "      <td>Damn I envy you, just got in last week</td>\n",
       "      <td>positive</td>\n",
       "      <td>negative</td>\n",
       "    </tr>\n",
       "    <tr>\n",
       "      <th>4</th>\n",
       "      <td>Hello future millionaire!</td>\n",
       "      <td>positive</td>\n",
       "      <td>neutral</td>\n",
       "    </tr>\n",
       "    <tr>\n",
       "      <th>...</th>\n",
       "      <td>...</td>\n",
       "      <td>...</td>\n",
       "      <td>...</td>\n",
       "    </tr>\n",
       "    <tr>\n",
       "      <th>123</th>\n",
       "      <td>Down, down, down with this shitcoin.</td>\n",
       "      <td>negative</td>\n",
       "      <td>neutral</td>\n",
       "    </tr>\n",
       "    <tr>\n",
       "      <th>124</th>\n",
       "      <td>Lol bitcoin you fucking crazy</td>\n",
       "      <td>negative</td>\n",
       "      <td>positive</td>\n",
       "    </tr>\n",
       "    <tr>\n",
       "      <th>125</th>\n",
       "      <td>What a wild market.</td>\n",
       "      <td>negative</td>\n",
       "      <td>neutral</td>\n",
       "    </tr>\n",
       "    <tr>\n",
       "      <th>126</th>\n",
       "      <td>Cold 🥶 storage boyz</td>\n",
       "      <td>negative</td>\n",
       "      <td>neutral</td>\n",
       "    </tr>\n",
       "    <tr>\n",
       "      <th>127</th>\n",
       "      <td>really wanting to throw_in…</td>\n",
       "      <td>negative</td>\n",
       "      <td>neutral</td>\n",
       "    </tr>\n",
       "  </tbody>\n",
       "</table>\n",
       "<p>128 rows × 3 columns</p>\n",
       "</div>"
      ],
      "text/plain": [
       "                                     sentence sentiment vader_sentiment\n",
       "0            2022 is gonna be big for crypto!  positive         neutral\n",
       "1    Come on ATOM, only $1 away from new ATH!  positive         neutral\n",
       "2     come on death cross make me some money!  positive        negative\n",
       "3      Damn I envy you, just got in last week  positive        negative\n",
       "4                   Hello future millionaire!  positive         neutral\n",
       "..                                        ...       ...             ...\n",
       "123      Down, down, down with this shitcoin.  negative         neutral\n",
       "124             Lol bitcoin you fucking crazy  negative        positive\n",
       "125                       What a wild market.  negative         neutral\n",
       "126                       Cold 🥶 storage boyz  negative         neutral\n",
       "127               really wanting to throw_in…  negative         neutral\n",
       "\n",
       "[128 rows x 3 columns]"
      ]
     },
     "execution_count": 53,
     "metadata": {},
     "output_type": "execute_result"
    }
   ],
   "source": [
    "data_re1 = data_re[data_re[\"sentiment\"] != data_re[\"vader_sentiment\"]]\n",
    "data_re1 = data_re1.reset_index(drop = True)\n",
    "data_re1.to_excel(\"sentences_add_99.xlsx\")\n",
    "data_re1"
   ]
  },
  {
   "cell_type": "code",
   "execution_count": 54,
   "id": "3cb650e0",
   "metadata": {},
   "outputs": [
    {
     "data": {
      "text/html": [
       "<div>\n",
       "<style scoped>\n",
       "    .dataframe tbody tr th:only-of-type {\n",
       "        vertical-align: middle;\n",
       "    }\n",
       "\n",
       "    .dataframe tbody tr th {\n",
       "        vertical-align: top;\n",
       "    }\n",
       "\n",
       "    .dataframe thead th {\n",
       "        text-align: right;\n",
       "    }\n",
       "</style>\n",
       "<table border=\"1\" class=\"dataframe\">\n",
       "  <thead>\n",
       "    <tr style=\"text-align: right;\">\n",
       "      <th></th>\n",
       "      <th>sentence</th>\n",
       "      <th>sentiment</th>\n",
       "      <th>vader_sentiment</th>\n",
       "    </tr>\n",
       "  </thead>\n",
       "  <tbody>\n",
       "    <tr>\n",
       "      <th>0</th>\n",
       "      <td>2022 feels like a good year for crytpo.</td>\n",
       "      <td>positive</td>\n",
       "      <td>positive</td>\n",
       "    </tr>\n",
       "    <tr>\n",
       "      <th>1</th>\n",
       "      <td>A new daily! Let’s make some gains today!</td>\n",
       "      <td>positive</td>\n",
       "      <td>positive</td>\n",
       "    </tr>\n",
       "    <tr>\n",
       "      <th>2</th>\n",
       "      <td>Ada.... Good time to short it guys.</td>\n",
       "      <td>positive</td>\n",
       "      <td>positive</td>\n",
       "    </tr>\n",
       "    <tr>\n",
       "      <th>3</th>\n",
       "      <td>Alright guys i’m gonna sell so we can rocket</td>\n",
       "      <td>positive</td>\n",
       "      <td>positive</td>\n",
       "    </tr>\n",
       "    <tr>\n",
       "      <th>4</th>\n",
       "      <td>Bought more CRO! Let’s gooo! :D</td>\n",
       "      <td>positive</td>\n",
       "      <td>positive</td>\n",
       "    </tr>\n",
       "    <tr>\n",
       "      <th>...</th>\n",
       "      <td>...</td>\n",
       "      <td>...</td>\n",
       "      <td>...</td>\n",
       "    </tr>\n",
       "    <tr>\n",
       "      <th>197</th>\n",
       "      <td>so sad</td>\n",
       "      <td>negative</td>\n",
       "      <td>negative</td>\n",
       "    </tr>\n",
       "    <tr>\n",
       "      <th>198</th>\n",
       "      <td>That's ever so tragic</td>\n",
       "      <td>negative</td>\n",
       "      <td>negative</td>\n",
       "    </tr>\n",
       "    <tr>\n",
       "      <th>199</th>\n",
       "      <td>For fucks sake</td>\n",
       "      <td>negative</td>\n",
       "      <td>negative</td>\n",
       "    </tr>\n",
       "    <tr>\n",
       "      <th>200</th>\n",
       "      <td>Fuck you bitcoin</td>\n",
       "      <td>negative</td>\n",
       "      <td>negative</td>\n",
       "    </tr>\n",
       "    <tr>\n",
       "      <th>201</th>\n",
       "      <td>it hurts to be alive</td>\n",
       "      <td>negative</td>\n",
       "      <td>negative</td>\n",
       "    </tr>\n",
       "  </tbody>\n",
       "</table>\n",
       "<p>202 rows × 3 columns</p>\n",
       "</div>"
      ],
      "text/plain": [
       "                                         sentence sentiment vader_sentiment\n",
       "0         2022 feels like a good year for crytpo.  positive        positive\n",
       "1       A new daily! Let’s make some gains today!  positive        positive\n",
       "2             Ada.... Good time to short it guys.  positive        positive\n",
       "3    Alright guys i’m gonna sell so we can rocket  positive        positive\n",
       "4                 Bought more CRO! Let’s gooo! :D  positive        positive\n",
       "..                                            ...       ...             ...\n",
       "197                                        so sad  negative        negative\n",
       "198                         That's ever so tragic  negative        negative\n",
       "199                                For fucks sake  negative        negative\n",
       "200                              Fuck you bitcoin  negative        negative\n",
       "201                          it hurts to be alive  negative        negative\n",
       "\n",
       "[202 rows x 3 columns]"
      ]
     },
     "execution_count": 54,
     "metadata": {},
     "output_type": "execute_result"
    }
   ],
   "source": [
    "data_re2 = data_re[data_re[\"sentiment\"] == data_re[\"vader_sentiment\"]]\n",
    "data_re2 = data_re2.reset_index(drop = True)\n",
    "data_re2.to_excel(\"sentences_add_98.xlsx\")\n",
    "data_re2"
   ]
  },
  {
   "cell_type": "code",
   "execution_count": null,
   "id": "1fdcd2c8",
   "metadata": {},
   "outputs": [],
   "source": []
  }
 ],
 "metadata": {
  "kernelspec": {
   "display_name": "Python 3",
   "language": "python",
   "name": "python3"
  },
  "language_info": {
   "codemirror_mode": {
    "name": "ipython",
    "version": 3
   },
   "file_extension": ".py",
   "mimetype": "text/x-python",
   "name": "python",
   "nbconvert_exporter": "python",
   "pygments_lexer": "ipython3",
   "version": "3.8.10"
  }
 },
 "nbformat": 4,
 "nbformat_minor": 5
}
